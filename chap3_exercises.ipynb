{
 "cells": [
  {
   "cell_type": "code",
   "execution_count": 2,
   "id": "fc7570c2-f133-4c27-b9df-5b5eabd5891b",
   "metadata": {},
   "outputs": [],
   "source": [
    "import pandas as pd\n",
    "import numpy as np\n",
    "import matplotlib as mpl\n",
    "import matplotlib.pyplot as plt"
   ]
  },
  {
   "cell_type": "code",
   "execution_count": 4,
   "id": "806f8c8c-18f0-4382-af9c-b52419a142bf",
   "metadata": {},
   "outputs": [
    {
     "name": "stdout",
     "output_type": "stream",
     "text": [
      "(70000, 784)\n",
      "(70000,)\n"
     ]
    }
   ],
   "source": [
    "from sklearn.datasets import fetch_openml\n",
    "mnist = fetch_openml('mnist_784', version = 1)\n",
    "X,y = mnist[\"data\"],mnist[\"target\"]\n",
    "print(X.shape)\n",
    "print(y.shape)"
   ]
  },
  {
   "cell_type": "code",
   "execution_count": 5,
   "id": "64404346-7647-4cdd-915b-c24c5db895a5",
   "metadata": {},
   "outputs": [],
   "source": [
    "# change target label from string to integer\n",
    "y = y.astype(np.uint8)"
   ]
  },
  {
   "cell_type": "code",
   "execution_count": 6,
   "id": "d6b8afe4-7bff-43e6-9833-75f648876d4c",
   "metadata": {},
   "outputs": [],
   "source": [
    "# split into train and test, mnist is already split into train and test\n",
    "X_train, X_test, y_train, y_test = X.iloc[:60000,:], X.iloc[60000:,:], y[:60000],y[60000:]"
   ]
  },
  {
   "cell_type": "code",
   "execution_count": 8,
   "id": "1e7b8260-d80f-4a08-9967-11e165483ea6",
   "metadata": {},
   "outputs": [],
   "source": [
    "from sklearn.neighbors import KNeighborsClassifier\n",
    "from sklearn.model_selection import GridSearchCV\n",
    "\n",
    "param_grid = [\n",
    "    {'n_neighbors':[3,4,5], 'weights':['uniform','distance']}\n",
    "]\n",
    "knn_clf = KNeighborsClassifier()\n",
    "grid_search = GridSearchCV(knn_clf, param_grid, verbose = 3,cv = 3, scoring = 'accuracy', return_train_score = True)\n"
   ]
  },
  {
   "cell_type": "code",
   "execution_count": 9,
   "id": "49032ad8-8d5b-4ea3-954d-8298f2be6139",
   "metadata": {},
   "outputs": [
    {
     "name": "stdout",
     "output_type": "stream",
     "text": [
      "Fitting 3 folds for each of 6 candidates, totalling 18 fits\n",
      "[CV 1/3] END .................n_neighbors=3, weights=uniform; total time= 1.7min\n",
      "[CV 2/3] END .................n_neighbors=3, weights=uniform; total time= 1.6min\n",
      "[CV 3/3] END .................n_neighbors=3, weights=uniform; total time= 1.3min\n",
      "[CV 1/3] END ................n_neighbors=3, weights=distance; total time= 1.3min\n",
      "[CV 2/3] END ................n_neighbors=3, weights=distance; total time= 1.4min\n",
      "[CV 3/3] END ................n_neighbors=3, weights=distance; total time= 1.1min\n",
      "[CV 1/3] END .................n_neighbors=4, weights=uniform; total time= 1.2min\n",
      "[CV 2/3] END .................n_neighbors=4, weights=uniform; total time= 1.2min\n",
      "[CV 3/3] END .................n_neighbors=4, weights=uniform; total time= 1.2min\n",
      "[CV 1/3] END ................n_neighbors=4, weights=distance; total time= 1.2min\n",
      "[CV 2/3] END ................n_neighbors=4, weights=distance; total time= 1.2min\n",
      "[CV 3/3] END ................n_neighbors=4, weights=distance; total time= 1.2min\n",
      "[CV 1/3] END .................n_neighbors=5, weights=uniform; total time= 1.2min\n",
      "[CV 2/3] END .................n_neighbors=5, weights=uniform; total time= 1.2min\n",
      "[CV 3/3] END .................n_neighbors=5, weights=uniform; total time= 1.2min\n",
      "[CV 1/3] END ................n_neighbors=5, weights=distance; total time= 1.2min\n",
      "[CV 2/3] END ................n_neighbors=5, weights=distance; total time= 1.2min\n",
      "[CV 3/3] END ................n_neighbors=5, weights=distance; total time= 1.2min\n"
     ]
    },
    {
     "data": {
      "text/plain": [
       "GridSearchCV(cv=3, estimator=KNeighborsClassifier(),\n",
       "             param_grid=[{'n_neighbors': [3, 4, 5],\n",
       "                          'weights': ['uniform', 'distance']}],\n",
       "             return_train_score=True, scoring='accuracy', verbose=3)"
      ]
     },
     "execution_count": 9,
     "metadata": {},
     "output_type": "execute_result"
    }
   ],
   "source": [
    "grid_search.fit(X_train, y_train)"
   ]
  },
  {
   "cell_type": "code",
   "execution_count": 10,
   "id": "2a9ed529-dc13-4fb5-a904-4699e492a6f2",
   "metadata": {},
   "outputs": [
    {
     "data": {
      "text/plain": [
       "{'n_neighbors': 4, 'weights': 'distance'}"
      ]
     },
     "execution_count": 10,
     "metadata": {},
     "output_type": "execute_result"
    }
   ],
   "source": [
    "grid_search.best_params_"
   ]
  },
  {
   "cell_type": "code",
   "execution_count": 12,
   "id": "88a85642-43a2-4a86-9526-818a90561912",
   "metadata": {},
   "outputs": [
    {
     "data": {
      "text/plain": [
       "0.9703500000000002"
      ]
     },
     "execution_count": 12,
     "metadata": {},
     "output_type": "execute_result"
    }
   ],
   "source": [
    "grid_search.best_score_"
   ]
  },
  {
   "cell_type": "code",
   "execution_count": 46,
   "id": "39d6d208-7008-4ae2-b446-bcd1f1880d19",
   "metadata": {},
   "outputs": [
    {
     "name": "stdout",
     "output_type": "stream",
     "text": [
      "nan {'n_neighbors': 5, 'weights': 'uniform'}\n",
      "nan {'n_neighbors': 5, 'weights': 'distance'}\n",
      "nan {'n_neighbors': 10, 'weights': 'uniform'}\n",
      "nan {'n_neighbors': 10, 'weights': 'distance'}\n",
      "nan {'n_neighbors': 30, 'weights': 'uniform'}\n",
      "nan {'n_neighbors': 30, 'weights': 'distance'}\n"
     ]
    },
    {
     "name": "stderr",
     "output_type": "stream",
     "text": [
      "C:\\Users\\me800435\\AppData\\Roaming\\Python\\Python37\\site-packages\\ipykernel_launcher.py:3: RuntimeWarning: invalid value encountered in sqrt\n",
      "  This is separate from the ipykernel package so we can avoid doing imports until\n"
     ]
    }
   ],
   "source": [
    "cvres = grid_search.cv_results_\n",
    "for mean_score, params in zip(cvres['mean_test_score'], cvres[\"params\"]):\n",
    "    print(np.sqrt(-mean_score),params)"
   ]
  },
  {
   "cell_type": "code",
   "execution_count": 47,
   "id": "38eb2df2-83f6-4203-8aff-41a0dbdd2b37",
   "metadata": {},
   "outputs": [
    {
     "data": {
      "text/plain": [
       "{'mean_fit_time': array([1.41539168, 0.60445229, 0.49334415, 0.39336729, 0.37468473,\n",
       "        0.5668753 ]),\n",
       " 'std_fit_time': array([0.59108024, 0.12562495, 0.08505769, 0.06120043, 0.05176495,\n",
       "        0.17672348]),\n",
       " 'mean_score_time': array([60.27029069, 43.76681042, 46.83982038, 42.74108672, 42.03152402,\n",
       "        49.20930171]),\n",
       " 'std_score_time': array([12.63959878,  1.05912695,  3.50073916,  2.03409822,  1.44767284,\n",
       "         7.05715946]),\n",
       " 'param_n_neighbors': masked_array(data=[5, 5, 10, 10, 30, 30],\n",
       "              mask=[False, False, False, False, False, False],\n",
       "        fill_value='?',\n",
       "             dtype=object),\n",
       " 'param_weights': masked_array(data=['uniform', 'distance', 'uniform', 'distance',\n",
       "                    'uniform', 'distance'],\n",
       "              mask=[False, False, False, False, False, False],\n",
       "        fill_value='?',\n",
       "             dtype=object),\n",
       " 'params': [{'n_neighbors': 5, 'weights': 'uniform'},\n",
       "  {'n_neighbors': 5, 'weights': 'distance'},\n",
       "  {'n_neighbors': 10, 'weights': 'uniform'},\n",
       "  {'n_neighbors': 10, 'weights': 'distance'},\n",
       "  {'n_neighbors': 30, 'weights': 'uniform'},\n",
       "  {'n_neighbors': 30, 'weights': 'distance'}],\n",
       " 'split0_test_score': array([0.9676 , 0.9688 , 0.9621 , 0.96435, 0.9505 , 0.95215]),\n",
       " 'split1_test_score': array([0.9671 , 0.96795, 0.962  , 0.96435, 0.9506 , 0.95245]),\n",
       " 'split2_test_score': array([0.96755, 0.96905, 0.9645 , 0.96635, 0.9532 , 0.9544 ]),\n",
       " 'mean_test_score': array([0.96741667, 0.9686    , 0.96286667, 0.96501667, 0.95143333,\n",
       "        0.953     ]),\n",
       " 'std_test_score': array([0.00022485, 0.00047081, 0.00115566, 0.00094281, 0.00124989,\n",
       "        0.0009975 ]),\n",
       " 'rank_test_score': array([2, 1, 4, 3, 6, 5]),\n",
       " 'split0_train_score': array([0.97945 , 1.      , 0.971375, 1.      , 0.9566  , 1.      ]),\n",
       " 'split1_train_score': array([0.978725, 1.      , 0.971   , 1.      , 0.955575, 1.      ]),\n",
       " 'split2_train_score': array([0.979225, 1.      , 0.97155 , 1.      , 0.956375, 1.      ]),\n",
       " 'mean_train_score': array([0.97913333, 1.        , 0.97130833, 1.        , 0.95618333,\n",
       "        1.        ]),\n",
       " 'std_train_score': array([0.00030299, 0.        , 0.00022943, 0.        , 0.00043985,\n",
       "        0.        ])}"
      ]
     },
     "execution_count": 47,
     "metadata": {},
     "output_type": "execute_result"
    }
   ],
   "source": [
    "cvres"
   ]
  },
  {
   "cell_type": "code",
   "execution_count": null,
   "id": "975d261f-44fb-4801-804d-b08eca9881b0",
   "metadata": {},
   "outputs": [],
   "source": []
  },
  {
   "cell_type": "code",
   "execution_count": 51,
   "id": "bdff8a35-8b96-493f-a6a5-2bc2810c8de9",
   "metadata": {},
   "outputs": [
    {
     "data": {
      "text/plain": [
       "KNeighborsClassifier(weights='distance')"
      ]
     },
     "execution_count": 51,
     "metadata": {},
     "output_type": "execute_result"
    }
   ],
   "source": [
    "knn_clf = KNeighborsClassifier(weights='distance')\n",
    "knn_clf.fit(X_train,y_train)"
   ]
  },
  {
   "cell_type": "code",
   "execution_count": 52,
   "id": "f438f518-b653-4457-bf8e-01a1d3ce160d",
   "metadata": {},
   "outputs": [],
   "source": [
    "y_pred_test = knn_clf.predict(X_test)"
   ]
  },
  {
   "cell_type": "code",
   "execution_count": 53,
   "id": "e9c5c486-e41b-471c-a400-077cf01dd8c1",
   "metadata": {},
   "outputs": [
    {
     "data": {
      "text/plain": [
       "0.9691"
      ]
     },
     "execution_count": 53,
     "metadata": {},
     "output_type": "execute_result"
    }
   ],
   "source": [
    "accuracy_score(y_test, y_pred_test)"
   ]
  },
  {
   "cell_type": "code",
   "execution_count": null,
   "id": "f91b79a2-e4f4-4f93-b7e0-01354fa45fca",
   "metadata": {},
   "outputs": [],
   "source": []
  }
 ],
 "metadata": {
  "kernelspec": {
   "display_name": "Python 3",
   "language": "python",
   "name": "python3"
  },
  "language_info": {
   "codemirror_mode": {
    "name": "ipython",
    "version": 3
   },
   "file_extension": ".py",
   "mimetype": "text/x-python",
   "name": "python",
   "nbconvert_exporter": "python",
   "pygments_lexer": "ipython3",
   "version": "3.8.8"
  }
 },
 "nbformat": 4,
 "nbformat_minor": 5
}
