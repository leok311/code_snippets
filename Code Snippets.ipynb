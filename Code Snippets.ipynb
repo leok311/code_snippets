{
 "cells": [
  {
   "cell_type": "markdown",
   "id": "8a688fa0-ee34-46be-8f12-240b59a0524f",
   "metadata": {},
   "source": [
    "### Convert:\n",
    "- int to string"
   ]
  },
  {
   "cell_type": "code",
   "execution_count": null,
   "id": "1d252b41-2e0c-486d-aa57-2f3dd4b892df",
   "metadata": {},
   "outputs": [],
   "source": [
    "y = y.astype(np.uint8)"
   ]
  },
  {
   "cell_type": "markdown",
   "id": "82bbac0d-8d56-4f88-8bec-be4207320c40",
   "metadata": {},
   "source": [
    "#### Reshaping issue Numpy"
   ]
  },
  {
   "cell_type": "code",
   "execution_count": null,
   "id": "558ad91d-c1db-4335-bb0b-a395c8d01eca",
   "metadata": {},
   "outputs": [],
   "source": [
    "some_digit.to_numpy().reshape(1,-1)"
   ]
  },
  {
   "cell_type": "markdown",
   "id": "c4ae7a03-14dc-4904-a5c2-116e4984a077",
   "metadata": {},
   "source": [
    "#### number of characters in string"
   ]
  },
  {
   "cell_type": "code",
   "execution_count": null,
   "id": "33c30255-640d-41d2-b29b-1b56c88f40f6",
   "metadata": {},
   "outputs": [],
   "source": [
    "# characters in columns\n",
    "df.columns.str.len()\n",
    "\n",
    "# characters in df value\n",
    "df.first_name.str.len()"
   ]
  },
  {
   "cell_type": "markdown",
   "id": "073e66bc-eacb-48f8-ba75-d0d509bd3d84",
   "metadata": {},
   "source": [
    "#### Remove leading and training spaces in strings - DF"
   ]
  },
  {
   "cell_type": "code",
   "execution_count": null,
   "id": "7379c47a-d59f-4da2-9ac6-e5bbca254e20",
   "metadata": {},
   "outputs": [],
   "source": [
    "df = df.applymap(lambda x: x.strip() if isinstance(x, str) else x)"
   ]
  },
  {
   "cell_type": "markdown",
   "id": "11198469-2208-4cb1-99c8-554140a97298",
   "metadata": {},
   "source": [
    "#### Remove leading and training spaces in strings - List"
   ]
  },
  {
   "cell_type": "code",
   "execution_count": null,
   "id": "63bbd831-e2e3-4aab-aa7a-347745b79311",
   "metadata": {},
   "outputs": [],
   "source": [
    "[x.strip() for x in df.columns]"
   ]
  },
  {
   "cell_type": "code",
   "execution_count": null,
   "id": "bb5dc259-46de-4b98-9379-d52f48099b3d",
   "metadata": {},
   "outputs": [],
   "source": []
  },
  {
   "cell_type": "markdown",
   "id": "f3a13d0a-d545-4be1-bb34-90081bdb3ca2",
   "metadata": {},
   "source": [
    "### Measuring Perfomance"
   ]
  },
  {
   "cell_type": "markdown",
   "id": "bb3ed479-8ffc-46cd-855d-fd27b573ad25",
   "metadata": {},
   "source": [
    "#### Overall Score"
   ]
  },
  {
   "cell_type": "code",
   "execution_count": null,
   "id": "f4217597-23a1-47d7-8101-b0d869d658bd",
   "metadata": {},
   "outputs": [],
   "source": [
    "from sklearn.metrics import accuracy_score\n",
    "accuracy_score(y_test, y_pred_test)"
   ]
  },
  {
   "cell_type": "markdown",
   "id": "f2d5e7b8-7f51-4390-a070-9c0f05a93e81",
   "metadata": {},
   "source": [
    "#### Cross-val-score"
   ]
  },
  {
   "cell_type": "code",
   "execution_count": null,
   "id": "ce115698-6b81-4125-8c4e-fff82d83b6d9",
   "metadata": {},
   "outputs": [],
   "source": [
    "from sklearn.model_selection import cross_val_score\n",
    "cross_val_score(sgd_clf, X_train, y_train_5, cv = 3, scoring = \"accuracy\")"
   ]
  },
  {
   "cell_type": "markdown",
   "id": "392c0bd8-ec76-4224-88ca-7599af30f462",
   "metadata": {},
   "source": [
    "#### Cross-val-predict"
   ]
  },
  {
   "cell_type": "code",
   "execution_count": null,
   "id": "ab031b8b-fbb7-4fb0-8341-0048a85ef7d0",
   "metadata": {},
   "outputs": [],
   "source": [
    "from sklearn.model_selection import cross_val_predict\n",
    "y_train_pred = cross_val_predict(sgd_clf, X_train, y_train_5, cv = 3)"
   ]
  },
  {
   "cell_type": "markdown",
   "id": "a7f7e6d0-fa06-4707-ad0d-3e064ca22367",
   "metadata": {},
   "source": [
    "#### Confusion Matrix"
   ]
  },
  {
   "cell_type": "code",
   "execution_count": null,
   "id": "f0c4f280-2526-4e6e-8062-73126efd88c5",
   "metadata": {},
   "outputs": [],
   "source": [
    "from sklearn.metrics import confusion_matrix\n",
    "confusion_matrix(y_train_5, y_train_pred)"
   ]
  },
  {
   "cell_type": "markdown",
   "id": "8f09ea0e-ac5c-4cab-8724-ef22b6ab23c7",
   "metadata": {},
   "source": [
    "#### Precision and Recall"
   ]
  },
  {
   "cell_type": "code",
   "execution_count": null,
   "id": "4fbf82d4-28a7-493d-bd82-8e1f3ebddbdf",
   "metadata": {},
   "outputs": [],
   "source": [
    "from sklearn.metrics import precision_score, recall_score\n",
    "precision_score(y_train_5, y_train_pred)\n",
    "recall_score(y_train_5, y_train_pred)"
   ]
  },
  {
   "cell_type": "markdown",
   "id": "0645c92f-5f2d-4351-8be4-88e08bcb8f9f",
   "metadata": {},
   "source": [
    "#### F1 Score"
   ]
  },
  {
   "cell_type": "code",
   "execution_count": null,
   "id": "7869fca2-7387-47e3-a674-4113728675bf",
   "metadata": {},
   "outputs": [],
   "source": [
    "from sklearn.metrics import f1_score\n",
    "f1_score(y_train_5, y_train_pred)"
   ]
  },
  {
   "cell_type": "markdown",
   "id": "5357e8b0-80f0-4ea7-a1f2-bf7a66cd9829",
   "metadata": {},
   "source": [
    "##### Deciding on a threshold\n",
    "**Get full code (p95)**"
   ]
  },
  {
   "cell_type": "code",
   "execution_count": 69,
   "id": "8fbd19fe-877b-4e16-98ab-dbcf2d4bd7af",
   "metadata": {},
   "outputs": [],
   "source": [
    "# get all the scores in the training set\n",
    "y_scores = cross_val_predict(sgd_clf, X_train, y_train_5, cv = 3, method = 'decision_function')"
   ]
  },
  {
   "cell_type": "code",
   "execution_count": 71,
   "id": "8f7b9d13-28b2-4b48-9740-ab2a438ddccc",
   "metadata": {},
   "outputs": [],
   "source": [
    "# use these scores with precision_recall_curve() to compute precision and recall for every threshold\n",
    "from sklearn.metrics import precision_recall_curve\n",
    "precision, recall, threshold = precision_recall_curve(y_train_5, y_scores)"
   ]
  },
  {
   "cell_type": "code",
   "execution_count": 82,
   "id": "013050d9-941e-46ba-8a8b-297274b2a625",
   "metadata": {},
   "outputs": [
    {
     "data": {
      "text/plain": [
       "[<matplotlib.lines.Line2D at 0x1c18663bf88>]"
      ]
     },
     "execution_count": 82,
     "metadata": {},
     "output_type": "execute_result"
    },
    {
     "data": {
      "image/png": "[encoded data removed]",
      "text/plain": [
       "<Figure size 432x288 with 1 Axes>"
      ]
     },
     "metadata": {
      "needs_background": "light"
     },
     "output_type": "display_data"
    }
   ],
   "source": [
    "plt.plot(threshold, precision[:-1],'b--',label = 'Precision')\n",
    "plt.plot(threshold, recall[:-1],'g-', label = 'Recall')"
   ]
  },
  {
   "cell_type": "code",
   "execution_count": 83,
   "id": "b1a36ec2-7f49-4d50-9211-3b62c35e2e0d",
   "metadata": {},
   "outputs": [
    {
     "data": {
      "text/plain": [
       "[<matplotlib.lines.Line2D at 0x1c18676f208>]"
      ]
     },
     "execution_count": 83,
     "metadata": {},
     "output_type": "execute_result"
    },
    {
     "data": {
      "image/png": "[encoded data removed]",
      "text/plain": [
       "<Figure size 432x288 with 1 Axes>"
      ]
     },
     "metadata": {
      "needs_background": "light"
     },
     "output_type": "display_data"
    }
   ],
   "source": [
    "plt.plot(precision, recall)"
   ]
  },
  {
   "cell_type": "code",
   "execution_count": null,
   "id": "6a23d448-79ab-4130-b83e-d47e5f854e8b",
   "metadata": {},
   "outputs": [],
   "source": []
  },
  {
   "cell_type": "markdown",
   "id": "c6ce6695-f923-40f8-bd05-2a0653ef1b66",
   "metadata": {},
   "source": [
    "#### ROC Curve"
   ]
  },
  {
   "cell_type": "code",
   "execution_count": 90,
   "id": "c4d67192-221d-4780-8479-67221309427e",
   "metadata": {},
   "outputs": [],
   "source": [
    "from sklearn.metrics import roc_curve\n",
    "fpr, tpr, threshold = roc_curve(y_train_5, y_scores)"
   ]
  },
  {
   "cell_type": "code",
   "execution_count": 92,
   "id": "72ef2ff5-200b-46cb-8e92-bf88fa2a7e80",
   "metadata": {},
   "outputs": [
    {
     "data": {
      "text/plain": [
       "[<matplotlib.lines.Line2D at 0x1c186429c48>]"
      ]
     },
     "execution_count": 92,
     "metadata": {},
     "output_type": "execute_result"
    },
    {
     "data": {
      "image/png": "[encoded data removed]",
      "text/plain": [
       "<Figure size 432x288 with 1 Axes>"
      ]
     },
     "metadata": {
      "needs_background": "light"
     },
     "output_type": "display_data"
    }
   ],
   "source": [
    "plt.plot(fpr, tpr, linewidth=2)\n",
    "plt.plot([0,1],[0,1], 'k--')"
   ]
  },
  {
   "cell_type": "markdown",
   "id": "1fd89c6e-a038-4e39-b112-ba3018249f39",
   "metadata": {},
   "source": [
    "#### AUC Score"
   ]
  },
  {
   "cell_type": "code",
   "execution_count": 94,
   "id": "4a22914e-f176-4327-93c1-1c693b6e274a",
   "metadata": {},
   "outputs": [
    {
     "data": {
      "text/plain": [
       "0.9604938554008616"
      ]
     },
     "execution_count": 94,
     "metadata": {},
     "output_type": "execute_result"
    }
   ],
   "source": [
    "from sklearn.metrics import roc_auc_score\n",
    "roc_auc_score(y_train_5, y_scores)"
   ]
  },
  {
   "cell_type": "markdown",
   "id": "fedfdd42-fdff-4258-8f79-72d2fb434cac",
   "metadata": {},
   "source": [
    "#### Comparing Random Forest to SGD"
   ]
  },
  {
   "cell_type": "code",
   "execution_count": 95,
   "id": "423be716-9ddb-4cc2-98dc-ca483828c399",
   "metadata": {},
   "outputs": [],
   "source": [
    "# train RandomForest to compare results\n",
    "from sklearn.ensemble import RandomForestClassifier\n",
    "\n",
    "forest_clf = RandomForestClassifier(random_state = 42)\n",
    "y_prob_forest = cross_val_predict(forest_clf, X_train, y_train_5, cv=3, method = 'predict_proba')"
   ]
  },
  {
   "cell_type": "code",
   "execution_count": 97,
   "id": "cc78edc2-16c3-48cf-8587-d794cf705a68",
   "metadata": {},
   "outputs": [],
   "source": [
    "y_scores_forest = y_prob_forest[:,1] # score = prob of positive class\n",
    "fpr_forest, tpr_forest, thresholds_forest = roc_curve(y_train_5, y_scores_forest)"
   ]
  },
  {
   "cell_type": "code",
   "execution_count": 101,
   "id": "89b24b53-f2ee-48ce-9acb-47f5b2ee38b4",
   "metadata": {},
   "outputs": [
    {
     "data": {
      "text/plain": [
       "<matplotlib.legend.Legend at 0x1c186e94848>"
      ]
     },
     "execution_count": 101,
     "metadata": {},
     "output_type": "execute_result"
    },
    {
     "data": {
      "image/png": "[encoded data removed]",
      "text/plain": [
       "<Figure size 432x288 with 1 Axes>"
      ]
     },
     "metadata": {
      "needs_background": "light"
     },
     "output_type": "display_data"
    }
   ],
   "source": [
    "#compare the ROC of the two models\n",
    "plt.plot(fpr, tpr, \"b:\", label = 'SGD')\n",
    "plt.plot(fpr_forest, tpr_forest, label = 'forest')\n",
    "plt.legend(loc = 'lower right')"
   ]
  },
  {
   "cell_type": "code",
   "execution_count": null,
   "id": "0ff6d7a0-5ab7-4595-8a95-255ccb77e010",
   "metadata": {},
   "outputs": [],
   "source": []
  },
  {
   "cell_type": "code",
   "execution_count": null,
   "id": "a8b824c7-d9c9-4dfa-93db-2f25a9ad44e3",
   "metadata": {},
   "outputs": [],
   "source": []
  }
 ],
 "metadata": {
  "kernelspec": {
   "display_name": "Python 3 (ipykernel)",
   "language": "python",
   "name": "python3"
  },
  "language_info": {
   "codemirror_mode": {
    "name": "ipython",
    "version": 3
   },
   "file_extension": ".py",
   "mimetype": "text/x-python",
   "name": "python",
   "nbconvert_exporter": "python",
   "pygments_lexer": "ipython3",
   "version": "3.7.4"
  }
 },
 "nbformat": 4,
 "nbformat_minor": 5
}
