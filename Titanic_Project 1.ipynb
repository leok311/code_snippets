{
 "cells": [
  {
   "cell_type": "markdown",
   "id": "74707ca9-8ec7-4d72-9210-94c63cf6ef2d",
   "metadata": {},
   "source": [
    "# notes\n",
    "For next time:\n",
    "- split the data into train/test otherwise your scores are too high\n",
    "- follow the process in the pocket book, first create your features then split, then clean"
   ]
  },
  {
   "cell_type": "code",
   "execution_count": 57,
   "id": "269a0e02-8e9e-4a63-916a-3c8a08f99e8b",
   "metadata": {},
   "outputs": [],
   "source": [
    "import pandas as pd\n",
    "pd.set_option('display.max_rows', 500)\n",
    "pd.set_option('display.max_columns', 500)\n",
    "pd.set_option('display.width',1000)\n",
    "import numpy as np\n",
    "import matplotlib.pyplot as plt\n",
    "from sklearn.model_selection import(train_test_split, StratifiedKFold)\n",
    "from sklearn.preprocessing import OneHotEncoder\n",
    "from sklearn.impute import SimpleImputer\n",
    "from sklearn.compose import ColumnTransformer\n",
    "pd.options.mode.chained_assignment = None  # default='warn'"
   ]
  },
  {
   "cell_type": "code",
   "execution_count": 3,
   "id": "99443f5b-8265-4363-9043-e8d6c83dd6f0",
   "metadata": {},
   "outputs": [],
   "source": [
    "titanic_train = pd.read_csv('/Users/leo/Documents/python code/code_snippets/titanic/train.csv')\n",
    "titanic_test = pd.read_csv('/Users/leo/Documents/python code/code_snippets/titanic/test.csv')"
   ]
  },
  {
   "cell_type": "code",
   "execution_count": 5,
   "id": "b40262fd-6d87-40a9-9363-f03c4647318d",
   "metadata": {},
   "outputs": [],
   "source": [
    "# copy df\n",
    "titanic = titanic_train"
   ]
  },
  {
   "cell_type": "markdown",
   "id": "d8bb6e9f-624f-4820-a1b1-7be7db16dc04",
   "metadata": {},
   "source": [
    "## Split the data"
   ]
  },
  {
   "cell_type": "code",
   "execution_count": 10,
   "id": "ea679377-e75a-4efe-b993-3792892fb9ca",
   "metadata": {},
   "outputs": [
    {
     "name": "stdout",
     "output_type": "stream",
     "text": [
      "(891, 11)\n",
      "(891,)\n"
     ]
    }
   ],
   "source": [
    "y = titanic.Survived\n",
    "X = titanic.drop(columns = 'Survived')\n",
    "print(X.shape)\n",
    "print(y.shape)"
   ]
  },
  {
   "cell_type": "code",
   "execution_count": 106,
   "id": "a888cb23-16e6-46a1-9b4b-1023192255ef",
   "metadata": {},
   "outputs": [],
   "source": [
    "X_train, X_test, y_train, y_test = train_test_split(X,y, test_size = 0.3, random_state = 42)"
   ]
  },
  {
   "cell_type": "markdown",
   "id": "13f17c53-6a57-411e-be4b-7f70e2e00efa",
   "metadata": {},
   "source": [
    "## Data Cleanup"
   ]
  },
  {
   "cell_type": "markdown",
   "id": "c326609c-a593-450c-af38-3d9813925562",
   "metadata": {},
   "source": [
    "### Missing Values"
   ]
  },
  {
   "cell_type": "code",
   "execution_count": 79,
   "id": "42223a45-bcd3-4926-9f26-a7e81cef3095",
   "metadata": {},
   "outputs": [
    {
     "data": {
      "text/plain": [
       "PassengerId      0\n",
       "Pclass           0\n",
       "Name             0\n",
       "Sex              0\n",
       "Age            124\n",
       "SibSp            0\n",
       "Parch            0\n",
       "Ticket           0\n",
       "Fare             0\n",
       "Cabin          484\n",
       "Embarked         1\n",
       "dtype: int64"
      ]
     },
     "execution_count": 79,
     "metadata": {},
     "output_type": "execute_result"
    }
   ],
   "source": [
    "X_train.isnull().sum()"
   ]
  },
  {
   "cell_type": "code",
   "execution_count": 70,
   "id": "c6f1684c-b37e-4346-849c-d5885d7a61ea",
   "metadata": {},
   "outputs": [
    {
     "name": "stdout",
     "output_type": "stream",
     "text": [
      "<class 'pandas.core.frame.DataFrame'>\n",
      "Int64Index: 623 entries, 445 to 102\n",
      "Data columns (total 11 columns):\n",
      " #   Column       Non-Null Count  Dtype  \n",
      "---  ------       --------------  -----  \n",
      " 0   PassengerId  623 non-null    int64  \n",
      " 1   Pclass       623 non-null    int64  \n",
      " 2   Name         623 non-null    object \n",
      " 3   Sex          623 non-null    object \n",
      " 4   Age          499 non-null    float64\n",
      " 5   SibSp        623 non-null    int64  \n",
      " 6   Parch        623 non-null    int64  \n",
      " 7   Ticket       623 non-null    object \n",
      " 8   Fare         623 non-null    float64\n",
      " 9   Cabin        139 non-null    object \n",
      " 10  Embarked     622 non-null    object \n",
      "dtypes: float64(2), int64(4), object(5)\n",
      "memory usage: 58.4+ KB\n"
     ]
    }
   ],
   "source": [
    "X_train.info()"
   ]
  },
  {
   "cell_type": "markdown",
   "id": "ff51a710-fb52-4dd5-b8df-a1a5013637cc",
   "metadata": {},
   "source": [
    "## Add Features"
   ]
  },
  {
   "cell_type": "code",
   "execution_count": 99,
   "id": "da75aa91-dd3d-48ad-8547-b5433908182e",
   "metadata": {},
   "outputs": [],
   "source": [
    "def addFeatures(df):\n",
    "    # add deck\n",
    "    df.loc[:,'deck'] = df.loc[:,'Cabin'].str.slice(0,1)\n",
    "    \n",
    "    # add family size\n",
    "    df.loc[:,'family_size']= df.loc[:,'SibSp']+df.loc[:,'Parch']+1\n",
    "    return df"
   ]
  },
  {
   "cell_type": "markdown",
   "id": "96eb764f-3a65-43da-b643-2f6a722125db",
   "metadata": {
    "tags": []
   },
   "source": [
    "### imputers"
   ]
  },
  {
   "cell_type": "code",
   "execution_count": 100,
   "id": "c909b50c-7e34-48f5-a758-e7c25abf7b08",
   "metadata": {},
   "outputs": [],
   "source": [
    "## actually need to create a pipeline\n",
    "from sklearn.pipeline import Pipeline\n",
    "\n",
    "numerical = ['SibSp','Parch','Fare','Age','family_size']\n",
    "categorical = ['Sex','Pclass','deck']\n",
    "\n",
    "# Define categorical pipeline\n",
    "cat_pipe = Pipeline([\n",
    "    ('cat_imputer',SimpleImputer(strategy = 'constant',fill_value = 'NA')),\n",
    "    ('encoder', OneHotEncoder(handle_unknown='ignore', sparse=False))\n",
    "])\n",
    "\n",
    "# Define numeric pipelines\n",
    "num_pipe = Pipeline([\n",
    "    ('num_imputer',SimpleImputer(strategy = 'mean'))\n",
    "])\n",
    "\n",
    "preprocessor = ColumnTransformer([\n",
    "    ('cat', cat_pipe,categorical),\n",
    "    ('num', num_pipe,numerical)\n",
    "], remainder = 'drop')"
   ]
  },
  {
   "cell_type": "code",
   "execution_count": 107,
   "id": "9a5baa32-25ff-4a68-aaa6-7f6e536fe38e",
   "metadata": {},
   "outputs": [],
   "source": [
    "# apply pipeline to training data\n",
    "X_train = addFeatures(X_train)\n",
    "X_train = preprocessor.fit_transform(X_train)\n",
    "\n",
    "\n",
    "# apply pipeline to test data\n",
    "X_test = addFeatures(X_test)\n",
    "X_test = preprocessor.transform(X_test)\n",
    "\n",
    "# Prepare column names\n",
    "cat_columns = preprocessor.named_transformers_['cat']['encoder'].get_feature_names(categorical)\n",
    "columns = np.append(cat_columns, numerical)\n",
    "\n",
    "# create train,test DF\n",
    "X_train_clean = pd.DataFrame(X_train, columns = columns)\n",
    "X_test_clean = pd.DataFrame(X_test, columns = columns)"
   ]
  },
  {
   "cell_type": "code",
   "execution_count": 112,
   "id": "8c873e92-943f-4920-bc20-38a3b92da788",
   "metadata": {},
   "outputs": [
    {
     "name": "stdout",
     "output_type": "stream",
     "text": [
      "(623, 19)\n",
      "(268, 19)\n"
     ]
    }
   ],
   "source": [
    "print(X_train_clean.shape)\n",
    "print(X_test_clean.shape)"
   ]
  },
  {
   "cell_type": "markdown",
   "id": "7a8fc146-cf94-4d27-bdcc-9aa23194c41d",
   "metadata": {},
   "source": [
    "## EDA"
   ]
  },
  {
   "cell_type": "code",
   "execution_count": 113,
   "id": "8cad2351-cd11-413e-ae42-884c485ed51e",
   "metadata": {},
   "outputs": [
    {
     "name": "stdout",
     "output_type": "stream",
     "text": [
      "<class 'pandas.core.frame.DataFrame'>\n",
      "RangeIndex: 623 entries, 0 to 622\n",
      "Data columns (total 19 columns):\n",
      " #   Column       Non-Null Count  Dtype  \n",
      "---  ------       --------------  -----  \n",
      " 0   Sex_female   623 non-null    float64\n",
      " 1   Sex_male     623 non-null    float64\n",
      " 2   Pclass_1     623 non-null    float64\n",
      " 3   Pclass_2     623 non-null    float64\n",
      " 4   Pclass_3     623 non-null    float64\n",
      " 5   deck_A       623 non-null    float64\n",
      " 6   deck_B       623 non-null    float64\n",
      " 7   deck_C       623 non-null    float64\n",
      " 8   deck_D       623 non-null    float64\n",
      " 9   deck_E       623 non-null    float64\n",
      " 10  deck_F       623 non-null    float64\n",
      " 11  deck_G       623 non-null    float64\n",
      " 12  deck_NA      623 non-null    float64\n",
      " 13  deck_T       623 non-null    float64\n",
      " 14  SibSp        623 non-null    float64\n",
      " 15  Parch        623 non-null    float64\n",
      " 16  Fare         623 non-null    float64\n",
      " 17  Age          623 non-null    float64\n",
      " 18  family_size  623 non-null    float64\n",
      "dtypes: float64(19)\n",
      "memory usage: 92.6 KB\n"
     ]
    }
   ],
   "source": [
    "X_train_clean.info()"
   ]
  },
  {
   "cell_type": "code",
   "execution_count": 114,
   "id": "afe9f72c-5ea9-4be2-a886-fff77b49eec9",
   "metadata": {},
   "outputs": [
    {
     "name": "stdout",
     "output_type": "stream",
     "text": [
      "0    392\n",
      "1    231\n",
      "Name: Survived, dtype: int64\n",
      "0    0.629213\n",
      "1    0.370787\n",
      "Name: Survived, dtype: float64\n"
     ]
    }
   ],
   "source": [
    "print(y_train.value_counts())\n",
    "print(y_train.value_counts(normalize = True))"
   ]
  },
  {
   "cell_type": "markdown",
   "id": "01e37193-8f00-4d5a-bc26-35fe3635f1d3",
   "metadata": {},
   "source": [
    "- majority of people did not survive\n",
    "- 61% can act as a min accuracy, if we assume everyone parished we should get around 61% accuracy"
   ]
  },
  {
   "cell_type": "code",
   "execution_count": 116,
   "id": "19ad1131-fe0c-47c4-9eba-2b824e9964b1",
   "metadata": {},
   "outputs": [
    {
     "data": {
      "text/html": [
       "<div>\n",
       "<style scoped>\n",
       "    .dataframe tbody tr th:only-of-type {\n",
       "        vertical-align: middle;\n",
       "    }\n",
       "\n",
       "    .dataframe tbody tr th {\n",
       "        vertical-align: top;\n",
       "    }\n",
       "\n",
       "    .dataframe thead th {\n",
       "        text-align: right;\n",
       "    }\n",
       "</style>\n",
       "<table border=\"1\" class=\"dataframe\">\n",
       "  <thead>\n",
       "    <tr style=\"text-align: right;\">\n",
       "      <th></th>\n",
       "      <th>Sex_female</th>\n",
       "      <th>Sex_male</th>\n",
       "      <th>Pclass_1</th>\n",
       "      <th>Pclass_2</th>\n",
       "      <th>Pclass_3</th>\n",
       "      <th>deck_A</th>\n",
       "      <th>deck_B</th>\n",
       "      <th>deck_C</th>\n",
       "      <th>deck_D</th>\n",
       "      <th>deck_E</th>\n",
       "      <th>deck_F</th>\n",
       "      <th>deck_G</th>\n",
       "      <th>deck_NA</th>\n",
       "      <th>deck_T</th>\n",
       "      <th>SibSp</th>\n",
       "      <th>Parch</th>\n",
       "      <th>Fare</th>\n",
       "      <th>Age</th>\n",
       "      <th>family_size</th>\n",
       "    </tr>\n",
       "  </thead>\n",
       "  <tbody>\n",
       "    <tr>\n",
       "      <th>count</th>\n",
       "      <td>623.000000</td>\n",
       "      <td>623.000000</td>\n",
       "      <td>623.000000</td>\n",
       "      <td>623.000000</td>\n",
       "      <td>623.000000</td>\n",
       "      <td>623.000000</td>\n",
       "      <td>623.000000</td>\n",
       "      <td>623.000000</td>\n",
       "      <td>623.000000</td>\n",
       "      <td>623.000000</td>\n",
       "      <td>623.000000</td>\n",
       "      <td>623.000000</td>\n",
       "      <td>623.000000</td>\n",
       "      <td>623.000000</td>\n",
       "      <td>623.000000</td>\n",
       "      <td>623.000000</td>\n",
       "      <td>623.000000</td>\n",
       "      <td>623.000000</td>\n",
       "      <td>623.000000</td>\n",
       "    </tr>\n",
       "    <tr>\n",
       "      <th>mean</th>\n",
       "      <td>0.341894</td>\n",
       "      <td>0.658106</td>\n",
       "      <td>0.223114</td>\n",
       "      <td>0.211878</td>\n",
       "      <td>0.565008</td>\n",
       "      <td>0.016051</td>\n",
       "      <td>0.051364</td>\n",
       "      <td>0.065811</td>\n",
       "      <td>0.028892</td>\n",
       "      <td>0.036918</td>\n",
       "      <td>0.017657</td>\n",
       "      <td>0.004815</td>\n",
       "      <td>0.776886</td>\n",
       "      <td>0.001605</td>\n",
       "      <td>0.576244</td>\n",
       "      <td>0.386838</td>\n",
       "      <td>31.840730</td>\n",
       "      <td>29.256353</td>\n",
       "      <td>1.963082</td>\n",
       "    </tr>\n",
       "    <tr>\n",
       "      <th>std</th>\n",
       "      <td>0.474725</td>\n",
       "      <td>0.474725</td>\n",
       "      <td>0.416669</td>\n",
       "      <td>0.408967</td>\n",
       "      <td>0.496154</td>\n",
       "      <td>0.125774</td>\n",
       "      <td>0.220917</td>\n",
       "      <td>0.248150</td>\n",
       "      <td>0.167639</td>\n",
       "      <td>0.188712</td>\n",
       "      <td>0.131805</td>\n",
       "      <td>0.069281</td>\n",
       "      <td>0.416669</td>\n",
       "      <td>0.040064</td>\n",
       "      <td>1.216267</td>\n",
       "      <td>0.807692</td>\n",
       "      <td>51.027372</td>\n",
       "      <td>13.026811</td>\n",
       "      <td>1.731192</td>\n",
       "    </tr>\n",
       "    <tr>\n",
       "      <th>min</th>\n",
       "      <td>0.000000</td>\n",
       "      <td>0.000000</td>\n",
       "      <td>0.000000</td>\n",
       "      <td>0.000000</td>\n",
       "      <td>0.000000</td>\n",
       "      <td>0.000000</td>\n",
       "      <td>0.000000</td>\n",
       "      <td>0.000000</td>\n",
       "      <td>0.000000</td>\n",
       "      <td>0.000000</td>\n",
       "      <td>0.000000</td>\n",
       "      <td>0.000000</td>\n",
       "      <td>0.000000</td>\n",
       "      <td>0.000000</td>\n",
       "      <td>0.000000</td>\n",
       "      <td>0.000000</td>\n",
       "      <td>0.000000</td>\n",
       "      <td>0.420000</td>\n",
       "      <td>1.000000</td>\n",
       "    </tr>\n",
       "    <tr>\n",
       "      <th>25%</th>\n",
       "      <td>0.000000</td>\n",
       "      <td>0.000000</td>\n",
       "      <td>0.000000</td>\n",
       "      <td>0.000000</td>\n",
       "      <td>0.000000</td>\n",
       "      <td>0.000000</td>\n",
       "      <td>0.000000</td>\n",
       "      <td>0.000000</td>\n",
       "      <td>0.000000</td>\n",
       "      <td>0.000000</td>\n",
       "      <td>0.000000</td>\n",
       "      <td>0.000000</td>\n",
       "      <td>1.000000</td>\n",
       "      <td>0.000000</td>\n",
       "      <td>0.000000</td>\n",
       "      <td>0.000000</td>\n",
       "      <td>7.925000</td>\n",
       "      <td>22.000000</td>\n",
       "      <td>1.000000</td>\n",
       "    </tr>\n",
       "    <tr>\n",
       "      <th>50%</th>\n",
       "      <td>0.000000</td>\n",
       "      <td>1.000000</td>\n",
       "      <td>0.000000</td>\n",
       "      <td>0.000000</td>\n",
       "      <td>1.000000</td>\n",
       "      <td>0.000000</td>\n",
       "      <td>0.000000</td>\n",
       "      <td>0.000000</td>\n",
       "      <td>0.000000</td>\n",
       "      <td>0.000000</td>\n",
       "      <td>0.000000</td>\n",
       "      <td>0.000000</td>\n",
       "      <td>1.000000</td>\n",
       "      <td>0.000000</td>\n",
       "      <td>0.000000</td>\n",
       "      <td>0.000000</td>\n",
       "      <td>14.454200</td>\n",
       "      <td>29.256353</td>\n",
       "      <td>1.000000</td>\n",
       "    </tr>\n",
       "    <tr>\n",
       "      <th>75%</th>\n",
       "      <td>1.000000</td>\n",
       "      <td>1.000000</td>\n",
       "      <td>0.000000</td>\n",
       "      <td>0.000000</td>\n",
       "      <td>1.000000</td>\n",
       "      <td>0.000000</td>\n",
       "      <td>0.000000</td>\n",
       "      <td>0.000000</td>\n",
       "      <td>0.000000</td>\n",
       "      <td>0.000000</td>\n",
       "      <td>0.000000</td>\n",
       "      <td>0.000000</td>\n",
       "      <td>1.000000</td>\n",
       "      <td>0.000000</td>\n",
       "      <td>1.000000</td>\n",
       "      <td>0.000000</td>\n",
       "      <td>30.750000</td>\n",
       "      <td>35.000000</td>\n",
       "      <td>2.000000</td>\n",
       "    </tr>\n",
       "    <tr>\n",
       "      <th>max</th>\n",
       "      <td>1.000000</td>\n",
       "      <td>1.000000</td>\n",
       "      <td>1.000000</td>\n",
       "      <td>1.000000</td>\n",
       "      <td>1.000000</td>\n",
       "      <td>1.000000</td>\n",
       "      <td>1.000000</td>\n",
       "      <td>1.000000</td>\n",
       "      <td>1.000000</td>\n",
       "      <td>1.000000</td>\n",
       "      <td>1.000000</td>\n",
       "      <td>1.000000</td>\n",
       "      <td>1.000000</td>\n",
       "      <td>1.000000</td>\n",
       "      <td>8.000000</td>\n",
       "      <td>6.000000</td>\n",
       "      <td>512.329200</td>\n",
       "      <td>80.000000</td>\n",
       "      <td>11.000000</td>\n",
       "    </tr>\n",
       "  </tbody>\n",
       "</table>\n",
       "</div>"
      ],
      "text/plain": [
       "       Sex_female    Sex_male    Pclass_1    Pclass_2    Pclass_3      deck_A      deck_B      deck_C      deck_D      deck_E      deck_F      deck_G     deck_NA      deck_T       SibSp       Parch        Fare         Age  family_size\n",
       "count  623.000000  623.000000  623.000000  623.000000  623.000000  623.000000  623.000000  623.000000  623.000000  623.000000  623.000000  623.000000  623.000000  623.000000  623.000000  623.000000  623.000000  623.000000   623.000000\n",
       "mean     0.341894    0.658106    0.223114    0.211878    0.565008    0.016051    0.051364    0.065811    0.028892    0.036918    0.017657    0.004815    0.776886    0.001605    0.576244    0.386838   31.840730   29.256353     1.963082\n",
       "std      0.474725    0.474725    0.416669    0.408967    0.496154    0.125774    0.220917    0.248150    0.167639    0.188712    0.131805    0.069281    0.416669    0.040064    1.216267    0.807692   51.027372   13.026811     1.731192\n",
       "min      0.000000    0.000000    0.000000    0.000000    0.000000    0.000000    0.000000    0.000000    0.000000    0.000000    0.000000    0.000000    0.000000    0.000000    0.000000    0.000000    0.000000    0.420000     1.000000\n",
       "25%      0.000000    0.000000    0.000000    0.000000    0.000000    0.000000    0.000000    0.000000    0.000000    0.000000    0.000000    0.000000    1.000000    0.000000    0.000000    0.000000    7.925000   22.000000     1.000000\n",
       "50%      0.000000    1.000000    0.000000    0.000000    1.000000    0.000000    0.000000    0.000000    0.000000    0.000000    0.000000    0.000000    1.000000    0.000000    0.000000    0.000000   14.454200   29.256353     1.000000\n",
       "75%      1.000000    1.000000    0.000000    0.000000    1.000000    0.000000    0.000000    0.000000    0.000000    0.000000    0.000000    0.000000    1.000000    0.000000    1.000000    0.000000   30.750000   35.000000     2.000000\n",
       "max      1.000000    1.000000    1.000000    1.000000    1.000000    1.000000    1.000000    1.000000    1.000000    1.000000    1.000000    1.000000    1.000000    1.000000    8.000000    6.000000  512.329200   80.000000    11.000000"
      ]
     },
     "execution_count": 116,
     "metadata": {},
     "output_type": "execute_result"
    }
   ],
   "source": [
    "X_train_clean.describe()"
   ]
  },
  {
   "cell_type": "markdown",
   "id": "70798cfc-972c-457a-8e25-f87970cb8362",
   "metadata": {},
   "source": [
    "## Models\n",
    "- RandomForest\n"
   ]
  },
  {
   "cell_type": "code",
   "execution_count": 117,
   "id": "cc67a38e-617b-4cc3-a1e7-f04a2769d097",
   "metadata": {},
   "outputs": [],
   "source": [
    "from sklearn.ensemble import RandomForestClassifier"
   ]
  },
  {
   "cell_type": "code",
   "execution_count": 118,
   "id": "9c99347d-321c-47fc-aee9-c7bd9c8c59ac",
   "metadata": {},
   "outputs": [],
   "source": [
    "from sklearn.model_selection import cross_val_score, cross_val_predict\n",
    "from sklearn.preprocessing import StandardScaler"
   ]
  },
  {
   "cell_type": "code",
   "execution_count": 140,
   "id": "e380199d-9b57-4d9f-b084-78037ff24fa7",
   "metadata": {},
   "outputs": [],
   "source": [
    "rf_clf = RandomForestClassifier(random_state = 42,n_jobs = -1)"
   ]
  },
  {
   "cell_type": "code",
   "execution_count": 121,
   "id": "b355d6e6-3ec3-46a1-8b78-54eaff2ee803",
   "metadata": {},
   "outputs": [
    {
     "data": {
      "text/plain": [
       "array([0.81730769, 0.78846154, 0.82608696])"
      ]
     },
     "execution_count": 121,
     "metadata": {},
     "output_type": "execute_result"
    }
   ],
   "source": [
    "cross_val_score(rf_clf, X_train_clean, y_train, cv = 3, scoring = \"accuracy\")"
   ]
  },
  {
   "cell_type": "code",
   "execution_count": 645,
   "id": "b4f11334-f3b5-422b-b762-3e9944dd29c2",
   "metadata": {},
   "outputs": [],
   "source": [
    "y_pred = cross_val_predict(rf_clf, titanic_clean, y_train, cv = 3)"
   ]
  },
  {
   "cell_type": "markdown",
   "id": "7de9f40a-e1af-40d8-a4c3-fb90d3479589",
   "metadata": {},
   "source": [
    "## Modeling"
   ]
  },
  {
   "cell_type": "markdown",
   "id": "cc7a98a7-5d55-4576-ba14-3dbbae610ac4",
   "metadata": {},
   "source": [
    "#### Baseline Model"
   ]
  },
  {
   "cell_type": "code",
   "execution_count": 168,
   "id": "1afe8940-43d7-47ec-944f-feff16885566",
   "metadata": {},
   "outputs": [
    {
     "data": {
      "text/plain": [
       "0.585820895522388"
      ]
     },
     "execution_count": 168,
     "metadata": {},
     "output_type": "execute_result"
    }
   ],
   "source": [
    "# this is the score to beat\n",
    "from sklearn.dummy import DummyClassifier\n",
    "\n",
    "bm = DummyClassifier()\n",
    "bm.fit(X_train_clean, y_train)\n",
    "bm.score(X_test, y_test)"
   ]
  },
  {
   "cell_type": "markdown",
   "id": "f29edbea-6f9b-4b53-90c0-896ba25c7c6a",
   "metadata": {},
   "source": [
    "### Grid search"
   ]
  },
  {
   "cell_type": "markdown",
   "id": "9c1da5b7-8e85-463b-a2cc-ae73f216d5e6",
   "metadata": {},
   "source": [
    "Run a simple grid search on RandomForest to find best parameters for `max_depth`,`n_estimators` and `max_leaf_nodes`"
   ]
  },
  {
   "cell_type": "code",
   "execution_count": 139,
   "id": "9b427242-216d-4878-ab7d-b61e29c3432d",
   "metadata": {},
   "outputs": [
    {
     "data": {
      "text/plain": [
       "dict_keys(['bootstrap', 'ccp_alpha', 'class_weight', 'criterion', 'max_depth', 'max_features', 'max_leaf_nodes', 'max_samples', 'min_impurity_decrease', 'min_impurity_split', 'min_samples_leaf', 'min_samples_split', 'min_weight_fraction_leaf', 'n_estimators', 'n_jobs', 'oob_score', 'random_state', 'verbose', 'warm_start'])"
      ]
     },
     "execution_count": 139,
     "metadata": {},
     "output_type": "execute_result"
    }
   ],
   "source": [
    "rf_clf.get_params().keys()"
   ]
  },
  {
   "cell_type": "code",
   "execution_count": 182,
   "id": "98172aa0-e59e-4488-bc06-a75ad572419a",
   "metadata": {},
   "outputs": [
    {
     "data": {
      "text/plain": [
       "GridSearchCV(cv=3, estimator=RandomForestClassifier(n_jobs=-1, random_state=42),\n",
       "             param_grid=[{'max_depth': [9, 10, 11, 12, 13],\n",
       "                          'max_leaf_nodes': [5, 6, 8, 10, 15, 16, 18],\n",
       "                          'n_estimators': [100, 200, 300, 500]}],\n",
       "             return_train_score=True, scoring='accuracy')"
      ]
     },
     "execution_count": 182,
     "metadata": {},
     "output_type": "execute_result"
    }
   ],
   "source": [
    "from sklearn.model_selection import GridSearchCV\n",
    "param_grid = [\n",
    "    {'max_depth':[9,10,11,12,13], 'n_estimators':[100,200,300,500], 'max_leaf_nodes':[5,6,8,10,15,16,18]}\n",
    "]\n",
    "\n",
    "grid_search = GridSearchCV(\n",
    "    rf_clf, param_grid, cv = 3, scoring = 'accuracy', return_train_score = True\n",
    "\n",
    ")\n",
    "\n",
    "grid_search.fit(X_train_clean, y_train)"
   ]
  },
  {
   "cell_type": "code",
   "execution_count": 183,
   "id": "4408baf2-0da9-40fd-8b3a-3cf6739ee73b",
   "metadata": {},
   "outputs": [
    {
     "data": {
      "text/plain": [
       "{'max_depth': 10, 'max_leaf_nodes': 18, 'n_estimators': 500}"
      ]
     },
     "execution_count": 183,
     "metadata": {},
     "output_type": "execute_result"
    }
   ],
   "source": [
    "grid_search.best_params_"
   ]
  },
  {
   "cell_type": "code",
   "execution_count": 184,
   "id": "9c8071e7-2f8f-4112-8e56-f668f02b364c",
   "metadata": {},
   "outputs": [
    {
     "data": {
      "text/plain": [
       "0.8298727238944631"
      ]
     },
     "execution_count": 184,
     "metadata": {},
     "output_type": "execute_result"
    }
   ],
   "source": [
    "grid_search.best_score_"
   ]
  },
  {
   "cell_type": "code",
   "execution_count": 185,
   "id": "ac03c466-533d-4cdc-8a65-07eba3990c66",
   "metadata": {},
   "outputs": [],
   "source": [
    "y_pred = grid_search.best_estimator_.predict(X_test_clean)"
   ]
  },
  {
   "cell_type": "code",
   "execution_count": 186,
   "id": "d2f310f2-a98d-4317-83ff-2782c9f51ded",
   "metadata": {},
   "outputs": [
    {
     "name": "stdout",
     "output_type": "stream",
     "text": [
      "precision: 0.8505747126436781\n",
      "recall: 0.6666666666666666\n",
      "accuracy: 0.8134328358208955\n"
     ]
    }
   ],
   "source": [
    "from sklearn.metrics import precision_score, recall_score, accuracy_score\n",
    "print('precision:',precision_score(y_test, y_pred))\n",
    "print('recall:',recall_score(y_test, y_pred))\n",
    "print('accuracy:', accuracy_score(y_test, y_pred))"
   ]
  },
  {
   "cell_type": "code",
   "execution_count": 187,
   "id": "526936c0-4b90-4012-807e-7f242d3adfe5",
   "metadata": {},
   "outputs": [
    {
     "data": {
      "image/png": "[encoded data removed]",
      "text/plain": [
       "<Figure size 432x288 with 1 Axes>"
      ]
     },
     "metadata": {},
     "output_type": "display_data"
    }
   ],
   "source": [
    "from yellowbrick.classifier import ConfusionMatrix\n",
    "\n",
    "fig, ax = plt.subplots(figsize=(6,4))\n",
    "visualizer = ConfusionMatrix(RandomForestClassifier(random_state=42))\n",
    "visualizer.fit(X_train_clean, y_train)\n",
    "visualizer.score(X_test_clean, y_test)\n",
    "visualizer.show();"
   ]
  },
  {
   "cell_type": "code",
   "execution_count": null,
   "id": "ffadc9f6-9d7a-46aa-87de-ada303361b72",
   "metadata": {},
   "outputs": [],
   "source": []
  },
  {
   "cell_type": "code",
   "execution_count": null,
   "id": "d074fd10-ad9e-4dff-8319-4e7e57374d14",
   "metadata": {},
   "outputs": [],
   "source": []
  },
  {
   "cell_type": "code",
   "execution_count": 123,
   "id": "7cbfef2d-17ce-45d6-ad4f-9d53a27746b6",
   "metadata": {},
   "outputs": [],
   "source": [
    "rf_clf.fit(X_train_clean, y_train)\n",
    "y_pred = rf_clf.predict(X_test_clean)"
   ]
  },
  {
   "cell_type": "code",
   "execution_count": 129,
   "id": "c768e328-73ff-4805-9948-fcc32a692911",
   "metadata": {},
   "outputs": [],
   "source": [
    "probs = rf_clf.predict_proba(X_test_clean)  \n",
    "probs = probs[:, 1]  "
   ]
  },
  {
   "cell_type": "code",
   "execution_count": 130,
   "id": "e632a46e-43d0-40b7-95ee-3b6fd86893a8",
   "metadata": {},
   "outputs": [
    {
     "data": {
      "text/plain": [
       "[<matplotlib.lines.Line2D at 0x12063a7f0>]"
      ]
     },
     "execution_count": 130,
     "metadata": {},
     "output_type": "execute_result"
    },
    {
     "data": {
      "image/png": "[encoded data removed]",
      "text/plain": [
       "<Figure size 432x288 with 1 Axes>"
      ]
     },
     "metadata": {
      "needs_background": "light"
     },
     "output_type": "display_data"
    }
   ],
   "source": [
    "from sklearn.metrics import roc_curve\n",
    "fpr, tpr, thresholds = roc_curve(y_test, probs)\n",
    "\n",
    "plt.plot(fpr, tpr)  "
   ]
  },
  {
   "cell_type": "code",
   "execution_count": 134,
   "id": "362f8b57-af8e-4f59-a73b-098bd879c5ca",
   "metadata": {},
   "outputs": [
    {
     "data": {
      "text/plain": [
       "array([[131,  26],\n",
       "       [ 36,  75]])"
      ]
     },
     "execution_count": 134,
     "metadata": {},
     "output_type": "execute_result"
    }
   ],
   "source": [
    "from sklearn.metrics import confusion_matrix\n",
    "confusion_matrix(y_test, y_pred)"
   ]
  },
  {
   "cell_type": "code",
   "execution_count": 135,
   "id": "10ab5a6e-77b4-43a9-b832-770d4e415820",
   "metadata": {},
   "outputs": [
    {
     "name": "stdout",
     "output_type": "stream",
     "text": [
      "precision: 0.7425742574257426\n",
      "recall: 0.6756756756756757\n",
      "accuracy: 0.7686567164179104\n"
     ]
    }
   ],
   "source": [
    "from sklearn.metrics import precision_score, recall_score, accuracy_score\n",
    "print('precision:',precision_score(y_test, y_pred))\n",
    "print('recall:',recall_score(y_test, y_pred))\n",
    "print('accuracy:', accuracy_score(y_test, y_pred))"
   ]
  },
  {
   "cell_type": "code",
   "execution_count": 151,
   "id": "f358db22-d5eb-426b-8ea4-ed3921e93c19",
   "metadata": {},
   "outputs": [
    {
     "data": {
      "image/png": "[encoded data removed]",
      "text/plain": [
       "<Figure size 432x288 with 1 Axes>"
      ]
     },
     "metadata": {},
     "output_type": "display_data"
    }
   ],
   "source": [
    "from yellowbrick.classifier import ConfusionMatrix\n",
    "\n",
    "fig, ax = plt.subplots(figsize=(6,4))\n",
    "visualizer = ConfusionMatrix(RandomForestClassifier(random_state=42))\n",
    "visualizer.fit(X_train_clean, y_train)\n",
    "visualizer.score(X_test_clean, y_test)\n",
    "visualizer.show();"
   ]
  },
  {
   "cell_type": "code",
   "execution_count": 138,
   "id": "b7e0c825-8e6a-459e-9acd-b76ef14ae289",
   "metadata": {},
   "outputs": [
    {
     "data": {
      "image/png": "[encoded data removed]",
      "text/plain": [
       "<Figure size 432x288 with 1 Axes>"
      ]
     },
     "metadata": {},
     "output_type": "display_data"
    }
   ],
   "source": [
    "from yellowbrick.classifier import PrecisionRecallCurve\n",
    "\n",
    "fig, ax = plt.subplots(figsize=(6,4))\n",
    "viz = PrecisionRecallCurve(RandomForestClassifier(random_state = 42))\n",
    "viz.fit(X_train_clean, y_train)\n",
    "viz.score(X_test_clean, y_test)\n",
    "\n",
    "viz.show();"
   ]
  },
  {
   "cell_type": "code",
   "execution_count": null,
   "id": "65f4d436-aa20-4e78-979e-02e9322f6417",
   "metadata": {},
   "outputs": [],
   "source": []
  },
  {
   "cell_type": "code",
   "execution_count": null,
   "id": "5c71e6da-a5fb-4fc2-9e19-2e0760601589",
   "metadata": {},
   "outputs": [],
   "source": []
  }
 ],
 "metadata": {
  "kernelspec": {
   "display_name": "Python 3",
   "language": "python",
   "name": "python3"
  },
  "language_info": {
   "codemirror_mode": {
    "name": "ipython",
    "version": 3
   },
   "file_extension": ".py",
   "mimetype": "text/x-python",
   "name": "python",
   "nbconvert_exporter": "python",
   "pygments_lexer": "ipython3",
   "version": "3.8.8"
  }
 },
 "nbformat": 4,
 "nbformat_minor": 5
}
